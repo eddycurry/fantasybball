{
 "cells": [
  {
   "cell_type": "code",
   "execution_count": 31,
   "metadata": {},
   "outputs": [],
   "source": [
    "import json\n",
    "import time\n",
    "import webbrowser\n",
    "import pandas as pd\n",
    "from pandas.io.json import json_normalize\n",
    "from rauth import OAuth2Service\n",
    "from rauth.utils import parse_utf8_qsl\n",
    "import base64"
   ]
  },
  {
   "cell_type": "code",
   "execution_count": 32,
   "metadata": {},
   "outputs": [],
   "source": [
    "credentials_file = open('../oauth.json')\n",
    "credentials = json.load(credentials_file)\n",
    "credentials_file.close()"
   ]
  },
  {
   "cell_type": "code",
   "execution_count": 44,
   "metadata": {},
   "outputs": [],
   "source": [
    "service_params = {'client_id':credentials['consumer_key'],\n",
    "                  'client_secret':credentials['consumer_secret'],\n",
    "                  'name':'yahoo',\n",
    "                  'access_token_url':'https://api.login.yahoo.com/oauth2/get_token',\n",
    "                  'authorize_url':'https://api.login.yahoo.com/oauth2/request_auth',\n",
    "                  'base_url':'http://fantasysports.yahooapis.com/'\n",
    "                 }"
   ]
  },
  {
   "cell_type": "code",
   "execution_count": 45,
   "metadata": {},
   "outputs": [],
   "source": [
    "oauth = OAuth2Service(**service_params)"
   ]
  },
  {
   "cell_type": "code",
   "execution_count": 46,
   "metadata": {},
   "outputs": [],
   "source": [
    "authorize_url = oauth.get_authorize_url(client_secret=credentials['consumer_secret'], \n",
    "                                        redirect_uri='oob', \n",
    "                                        response_type='code')"
   ]
  },
  {
   "cell_type": "code",
   "execution_count": 47,
   "metadata": {},
   "outputs": [
    {
     "data": {
      "text/plain": [
       "True"
      ]
     },
     "execution_count": 47,
     "metadata": {},
     "output_type": "execute_result"
    }
   ],
   "source": [
    "webbrowser.open(authorize_url)"
   ]
  },
  {
   "cell_type": "code",
   "execution_count": 48,
   "metadata": {},
   "outputs": [
    {
     "name": "stdout",
     "output_type": "stream",
     "text": [
      "Enter code: aey58nq\n"
     ]
    }
   ],
   "source": [
    "verify = input('Enter code: ')"
   ]
  },
  {
   "cell_type": "code",
   "execution_count": 49,
   "metadata": {},
   "outputs": [],
   "source": [
    "def generate_oauth2_headers():\n",
    "        \"\"\"Generates header for oauth2\n",
    "        \"\"\"\n",
    "        encoded_credentials = base64.b64encode(('{0}:{1}'.format(credentials['consumer_key'],\n",
    "                                                                 credentials['consumer_secret'])).encode('utf-8'))\n",
    "        headers={\n",
    "            'Authorization':'Basic {0}'.format(encoded_credentials.decode('utf-8')),\n",
    "            'Content-Type': 'application/x-www-form-urlencoded'\n",
    "        }\n",
    "\n",
    "        return headers"
   ]
  },
  {
   "cell_type": "code",
   "execution_count": 50,
   "metadata": {},
   "outputs": [],
   "source": [
    "def oauth2_access_parser(raw_access):\n",
    "        \"\"\"Parse oauth2 access\n",
    "        \"\"\"\n",
    "        parsed_access = json.loads(raw_access.content.decode('utf-8'))\n",
    "        access_token = parsed_access['access_token']\n",
    "        token_type = parsed_access['token_type']\n",
    "        refresh_token = parsed_access['refresh_token']\n",
    "        guid = parsed_access['xoauth_yahoo_guid']\n",
    "\n",
    "        keys = {\n",
    "            'access_token': access_token,\n",
    "            'token_type': token_type,\n",
    "            'refresh_token': refresh_token,\n",
    "            'guid': guid\n",
    "        }\n",
    "        \n",
    "        return keys\n",
    "        \n"
   ]
  },
  {
   "cell_type": "code",
   "execution_count": 51,
   "metadata": {},
   "outputs": [],
   "source": [
    "token_time = time.time()\n",
    "    \n",
    "keys = {'token_time': token_time}\n",
    "\n",
    "headers = generate_oauth2_headers()\n",
    "# Getting access token\n",
    "raw_access = oauth.get_raw_access_token(data={\"code\": verify, 'redirect_uri': 'oob','grant_type':'authorization_code'}, headers=headers)\n",
    "#parsed_access = parse_utf8_qsl(raw_access.content.decode('utf-8'))\n",
    "keys.update(oauth2_access_parser(raw_access))\n",
    "\n",
    "keys.update(service_params)"
   ]
  },
  {
   "cell_type": "code",
   "execution_count": 52,
   "metadata": {},
   "outputs": [],
   "source": [
    "with open('secrets.json', 'w') as fp:\n",
    "    json.dump(keys, fp, indent=4, sort_keys=True, ensure_ascii=False)"
   ]
  },
  {
   "cell_type": "code",
   "execution_count": 57,
   "metadata": {},
   "outputs": [],
   "source": [
    "s = oauth.get_session(token=keys['access_token'])"
   ]
  },
  {
   "cell_type": "markdown",
   "metadata": {},
   "source": [
    "### Get league settings and user team"
   ]
  },
  {
   "cell_type": "code",
   "execution_count": 65,
   "metadata": {},
   "outputs": [],
   "source": [
    "url = \"https://fantasysports.yahooapis.com/fantasy/v2/league/nba.l.171968/settings\"\n",
    "params = {'format': 'json'}\n",
    "response = s.get(url, params=params)"
   ]
  },
  {
   "cell_type": "code",
   "execution_count": 71,
   "metadata": {},
   "outputs": [
    {
     "data": {
      "text/plain": [
       "12"
      ]
     },
     "execution_count": 71,
     "metadata": {},
     "output_type": "execute_result"
    }
   ],
   "source": [
    "response_content = response.json()\n",
    "num_teams = response_content['fantasy_content']['league'][0]['num_teams']"
   ]
  },
  {
   "cell_type": "code",
   "execution_count": 84,
   "metadata": {},
   "outputs": [],
   "source": [
    "df_positions = pd.DataFrame(list(map(lambda x: x['roster_position'], \n",
    "    response_content['fantasy_content']['league'][1]['settings'][0]['roster_positions'])))"
   ]
  },
  {
   "cell_type": "code",
   "execution_count": 92,
   "metadata": {},
   "outputs": [],
   "source": [
    "stats = [i['stat']['name']\\\n",
    " for i in response_content['fantasy_content']['league'][1]['settings'][0]['stat_categories']['stats'] \\\n",
    " if 'is_only_display_stat' not in i['stat']['stat_position_types'][0]['stat_position_type'].keys()]"
   ]
  },
  {
   "cell_type": "code",
   "execution_count": null,
   "metadata": {},
   "outputs": [],
   "source": []
  }
 ],
 "metadata": {
  "anaconda-cloud": {},
  "kernelspec": {
   "display_name": "Python 3",
   "language": "python",
   "name": "python3"
  },
  "language_info": {
   "codemirror_mode": {
    "name": "ipython",
    "version": 3
   },
   "file_extension": ".py",
   "mimetype": "text/x-python",
   "name": "python",
   "nbconvert_exporter": "python",
   "pygments_lexer": "ipython3",
   "version": "3.7.2"
  }
 },
 "nbformat": 4,
 "nbformat_minor": 2
}
